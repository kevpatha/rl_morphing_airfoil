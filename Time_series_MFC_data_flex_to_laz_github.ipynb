{
 "cells": [
  {
   "cell_type": "code",
   "execution_count": 1,
   "metadata": {},
   "outputs": [],
   "source": [
    "import os\n",
    "import datetime\n",
    "\n",
    "import IPython\n",
    "import IPython.display\n",
    "import matplotlib as mpl\n",
    "import matplotlib.pyplot as plt\n",
    "import numpy as np\n",
    "import pandas as pd\n",
    "import seaborn as sns\n",
    "import tensorflow as tf\n",
    "import tensorflow.keras as keras\n",
    "#import tensorflow_addons\n",
    "#import tensorflow_probability as tfp\n",
    "\n",
    "mpl.rcParams['figure.figsize'] = (8,6)\n",
    "mpl.rcParams['axes.grid'] = False\n",
    "%matplotlib inline"
   ]
  },
  {
   "cell_type": "code",
   "execution_count": 2,
   "metadata": {},
   "outputs": [],
   "source": [
    "#!pip install tensorflow_probability"
   ]
  },
  {
   "cell_type": "code",
   "execution_count": 3,
   "metadata": {},
   "outputs": [
    {
     "name": "stdout",
     "output_type": "stream",
     "text": [
      "Cleaning Data...\n",
      "..data0..\n",
      "..data1..\n",
      "..data2..\n",
      "..data3..\n",
      "..data4..\n",
      "..data5..\n",
      "..data6..\n",
      "..data8..\n",
      "..done cleaning..\n"
     ]
    },
    {
     "data": {
      "text/html": [
       "<div>\n",
       "<style scoped>\n",
       "    .dataframe tbody tr th:only-of-type {\n",
       "        vertical-align: middle;\n",
       "    }\n",
       "\n",
       "    .dataframe tbody tr th {\n",
       "        vertical-align: top;\n",
       "    }\n",
       "\n",
       "    .dataframe thead th {\n",
       "        text-align: right;\n",
       "    }\n",
       "</style>\n",
       "<table border=\"1\" class=\"dataframe\">\n",
       "  <thead>\n",
       "    <tr style=\"text-align: right;\">\n",
       "      <th></th>\n",
       "      <th>Flex</th>\n",
       "      <th>last_laz</th>\n",
       "    </tr>\n",
       "  </thead>\n",
       "  <tbody>\n",
       "    <tr>\n",
       "      <th>0</th>\n",
       "      <td>751.0</td>\n",
       "      <td>550.0</td>\n",
       "    </tr>\n",
       "    <tr>\n",
       "      <th>1</th>\n",
       "      <td>748.0</td>\n",
       "      <td>550.0</td>\n",
       "    </tr>\n",
       "    <tr>\n",
       "      <th>2</th>\n",
       "      <td>747.0</td>\n",
       "      <td>555.0</td>\n",
       "    </tr>\n",
       "    <tr>\n",
       "      <th>3</th>\n",
       "      <td>747.0</td>\n",
       "      <td>570.0</td>\n",
       "    </tr>\n",
       "    <tr>\n",
       "      <th>4</th>\n",
       "      <td>748.0</td>\n",
       "      <td>572.0</td>\n",
       "    </tr>\n",
       "  </tbody>\n",
       "</table>\n",
       "</div>"
      ],
      "text/plain": [
       "    Flex  last_laz\n",
       "0  751.0     550.0\n",
       "1  748.0     550.0\n",
       "2  747.0     555.0\n",
       "3  747.0     570.0\n",
       "4  748.0     572.0"
      ]
     },
     "execution_count": 3,
     "metadata": {},
     "output_type": "execute_result"
    }
   ],
   "source": [
    "col_names = ['Flex', 'Laz', 'st_volt', 'end_volt', 'time_step', 'tot_time']#, 'time_step', 'total_time']\n",
    "\n",
    "data_filepath0 = 'data/MFC_dynamics_data0_step2_range31_shuffle_seed0.csv'\n",
    "data_filepath1 = 'data/MFC_dynamics_data0_step2_range31_shuffle_seed1.csv'\n",
    "data_filepath2 = 'data/MFC_dynamics_data0_step2_range31_shuffle_seed2.csv'\n",
    "data_filepath3 = 'data/MFC_dynamics_data0_step2_range31_shuffle_seed3.csv'\n",
    "data_filepath4 = 'data/MFC_dynamics_data0_step2_range31_shuffle_seed4.csv'\n",
    "data_filepath5 = 'data/MFC_dynamics_data0_step2_range31_shuffle_seed5.csv'\n",
    "data_filepath6 = 'data/MFC_dynamics_data0_step2_range31_shuffle_seed6.csv'\n",
    "#data_filepath7 = 'data/MFC_dynamics_data0_step2_range31_shuffle_seed7.csv'\n",
    "data_filepath8 = 'data/MFC_dynamics_data0_step2_range31_shuffle_seed8.csv'\n",
    "data_filepath9 = 'data/MFC_dynamics_data0_step2_range31_shuffle_seed9.csv'\n",
    "data_filepath10 = 'data/MFC_dynamics_data0_step2_range31_shuffle_seed10.csv'\n",
    "\n",
    "raw_data0 = pd.read_csv(data_filepath0, names=col_names, na_values = '?', comment='\\t', sep=',')\n",
    "raw_data1 = pd.read_csv(data_filepath1, names=col_names, na_values = '?', comment='\\t', sep=',')\n",
    "raw_data2 = pd.read_csv(data_filepath2, names=col_names, na_values = '?', comment='\\t', sep=',')\n",
    "raw_data3 = pd.read_csv(data_filepath3, names=col_names, na_values = '?', comment='\\t', sep=',')\n",
    "raw_data4 = pd.read_csv(data_filepath4, names=col_names, na_values = '?', comment='\\t', sep=',')\n",
    "raw_data5 = pd.read_csv(data_filepath5, names=col_names, na_values = '?', comment='\\t', sep=',')\n",
    "raw_data6 = pd.read_csv(data_filepath6, names=col_names, na_values = '?', comment='\\t', sep=',')\n",
    "#raw_data7 = pd.read_csv(data_filepath7, names=col_names, na_values = '?', comment='\\t', sep=',')\n",
    "raw_data8 = pd.read_csv(data_filepath8, names=col_names, na_values = '?', comment='\\t', sep=',')\n",
    "#test dataset\n",
    "raw_data9 = pd.read_csv(data_filepath9, names=col_names, na_values = '?', comment='\\t', sep=',')\n",
    "raw_data10 = pd.read_csv(data_filepath10, names=col_names, na_values = '?', comment='\\t', sep=',')\n",
    "\n",
    "def clean_data(df):\n",
    "    df = df[df['Flex']<1023]\n",
    "    df = df[df['Laz']>0]\n",
    "    \n",
    "    df['last_laz'] = df['Laz'].shift(periods=1)\n",
    "    df.dropna(subset = ['last_laz'], inplace=True)\n",
    "    \n",
    "    #df['flex_diff'] = df['Flex'].diff()\n",
    "    #df.dropna(subset = ['flex_diff'], inplace=True)\n",
    "    \n",
    "    df.drop('Laz', inplace = True, axis=1)\n",
    "    df.drop('time_step', inplace=True, axis=1)\n",
    "    df.drop('st_volt', inplace=True, axis=1)\n",
    "    df.drop('end_volt', inplace=True, axis=1)\n",
    "    #df.drop('Flex', inplace=True, axis=1)\n",
    "    #df.drop('Laz', inplace=True, axis=1)\n",
    "    df.drop('tot_time', inplace=True, axis = 1)\n",
    "    return df\n",
    "\n",
    "raw_data = []\n",
    "print('Cleaning Data...')\n",
    "data0 = clean_data(raw_data0)\n",
    "raw_data.append(data0)\n",
    "print('..data0..')\n",
    "data1 = clean_data(raw_data1)\n",
    "raw_data.append(data1)\n",
    "print('..data1..')\n",
    "data2 = clean_data(raw_data2)\n",
    "raw_data.append(data2)\n",
    "print('..data2..')\n",
    "data3 = clean_data(raw_data3)\n",
    "raw_data.append(data3)\n",
    "print('..data3..')\n",
    "data4 = clean_data(raw_data4)\n",
    "raw_data.append(data4)\n",
    "print('..data4..')\n",
    "data5 = clean_data(raw_data5)\n",
    "raw_data.append(data5)\n",
    "print('..data5..')\n",
    "data6 = clean_data(raw_data6)\n",
    "raw_data.append(data6)\n",
    "print('..data6..')\n",
    "data8 = clean_data(raw_data8)\n",
    "raw_data.append(data8)\n",
    "print('..data8..')\n",
    "data9 = clean_data(raw_data9)\n",
    "raw_data.append(data9)\n",
    "print('..done cleaning..')\n",
    "\n",
    "cleaned_data = pd.concat(raw_data, axis=0, ignore_index=True)\n",
    "\n",
    "dataset = cleaned_data.copy()\n",
    "df = dataset #dataset[5::6]\n",
    "df.head()\n"
   ]
  },
  {
   "cell_type": "code",
   "execution_count": 4,
   "metadata": {},
   "outputs": [
    {
     "data": {
      "text/html": [
       "<div>\n",
       "<style scoped>\n",
       "    .dataframe tbody tr th:only-of-type {\n",
       "        vertical-align: middle;\n",
       "    }\n",
       "\n",
       "    .dataframe tbody tr th {\n",
       "        vertical-align: top;\n",
       "    }\n",
       "\n",
       "    .dataframe thead th {\n",
       "        text-align: right;\n",
       "    }\n",
       "</style>\n",
       "<table border=\"1\" class=\"dataframe\">\n",
       "  <thead>\n",
       "    <tr style=\"text-align: right;\">\n",
       "      <th></th>\n",
       "      <th>count</th>\n",
       "      <th>mean</th>\n",
       "      <th>std</th>\n",
       "      <th>min</th>\n",
       "      <th>25%</th>\n",
       "      <th>50%</th>\n",
       "      <th>75%</th>\n",
       "      <th>max</th>\n",
       "    </tr>\n",
       "  </thead>\n",
       "  <tbody>\n",
       "    <tr>\n",
       "      <th>Flex</th>\n",
       "      <td>2409593.0</td>\n",
       "      <td>760.571349</td>\n",
       "      <td>68.733912</td>\n",
       "      <td>612.0</td>\n",
       "      <td>703.0</td>\n",
       "      <td>757.0</td>\n",
       "      <td>818.0</td>\n",
       "      <td>920.0</td>\n",
       "    </tr>\n",
       "    <tr>\n",
       "      <th>last_laz</th>\n",
       "      <td>2409593.0</td>\n",
       "      <td>495.819635</td>\n",
       "      <td>225.281801</td>\n",
       "      <td>44.0</td>\n",
       "      <td>297.0</td>\n",
       "      <td>503.0</td>\n",
       "      <td>703.0</td>\n",
       "      <td>890.0</td>\n",
       "    </tr>\n",
       "  </tbody>\n",
       "</table>\n",
       "</div>"
      ],
      "text/plain": [
       "              count        mean         std    min    25%    50%    75%    max\n",
       "Flex      2409593.0  760.571349   68.733912  612.0  703.0  757.0  818.0  920.0\n",
       "last_laz  2409593.0  495.819635  225.281801   44.0  297.0  503.0  703.0  890.0"
      ]
     },
     "execution_count": 4,
     "metadata": {},
     "output_type": "execute_result"
    }
   ],
   "source": [
    "df.describe().transpose()"
   ]
  },
  {
   "cell_type": "markdown",
   "metadata": {},
   "source": [
    "### Data info for normalizaton"
   ]
  },
  {
   "cell_type": "code",
   "execution_count": 5,
   "metadata": {},
   "outputs": [],
   "source": [
    "df_mean = df.mean()\n",
    "df_std = df.std()\n",
    "\n",
    "def normalize_df(df):\n",
    "    df = (df-df_mean)/df_std\n",
    "    return df\n",
    "\n"
   ]
  },
  {
   "cell_type": "markdown",
   "metadata": {},
   "source": [
    "## Data windowing\n",
    "    "
   ]
  },
  {
   "cell_type": "code",
   "execution_count": 6,
   "metadata": {},
   "outputs": [],
   "source": [
    "class WindowGenerator():\n",
    "    def __init__(self, input_width, label_width, shift,\n",
    "               train_df, val_df, test_df,\n",
    "               label_columns=None):\n",
    "        # Store the raw data.\n",
    "        self.train_df = train_df\n",
    "        self.val_df = val_df\n",
    "        self.test_df = test_df\n",
    "\n",
    "        # Work out the label column indices.\n",
    "        self.label_columns = label_columns\n",
    "        if label_columns is not None:\n",
    "            self.label_columns_indices = {name: i for i, name in\n",
    "                                    enumerate(label_columns)}\n",
    "        self.column_indices = {name: i for i, name in\n",
    "                           enumerate(train_df.columns)}\n",
    "\n",
    "        # Work out the window parameters.\n",
    "        self.input_width = input_width\n",
    "        self.label_width = label_width\n",
    "        self.shift = shift\n",
    "\n",
    "        self.total_window_size = input_width + shift\n",
    "\n",
    "        self.input_slice = slice(0, input_width)\n",
    "        self.input_indices = np.arange(self.total_window_size)[self.input_slice]\n",
    "\n",
    "        self.label_start = self.total_window_size - self.label_width\n",
    "        self.labels_slice = slice(self.label_start, None)\n",
    "        self.label_indices = np.arange(self.total_window_size)[self.labels_slice]\n",
    "    \n",
    "    def split_window(self, features):\n",
    "        inputs = features[:, self.input_slice, :]\n",
    "        labels = features[:, self.labels_slice, :]\n",
    "        if self.label_columns is not None:\n",
    "            labels = tf.stack([labels[:, :, self.column_indices[name]] \n",
    "                              for name in self.label_columns],\n",
    "                             axis=-1)\n",
    "        \n",
    "        # Slicing doesn't preserve static shape information, so set the shapes\n",
    "        # manually. This way the tf.data.Datasets are easier to inspect.\n",
    "        inputs.set_shape([None, self.input_width, None])\n",
    "        labels.set_shape([None, self.label_width, None])\n",
    "        \n",
    "        return inputs, labels\n",
    "\n",
    "    def __repr__(self):\n",
    "        return '\\n'.join([\n",
    "            f'Total window size: {self.total_window_size}',\n",
    "            f'Input indices: {self.input_indices}',\n",
    "            f'Label indices: {self.label_indices}',\n",
    "            f'Label column name(s): {self.label_columns}'])\n",
    "    \n",
    "    def plot(self, model=None, plot_col='Laz', max_subplots=3):\n",
    "        inputs, labels = self.example\n",
    "        plt.figure(figsize=(12, 8))\n",
    "        plot_col_index = self.column_indices[plot_col]\n",
    "        max_n = min(max_subplots, len(inputs))\n",
    "        for n in range(max_n):\n",
    "            plt.subplot(max_n, 1, n+1)\n",
    "            plt.ylabel(f'{plot_col} [normed]')\n",
    "            plt.plot(self.input_indices, inputs[n, :, plot_col_index],\n",
    "                 label='Inputs', marker='.', zorder=-10)\n",
    "\n",
    "            if self.label_columns:\n",
    "                label_col_index = self.label_columns_indices.get(plot_col, None)\n",
    "            else:\n",
    "                label_col_index = plot_col_index\n",
    "\n",
    "            if label_col_index is None:\n",
    "                continue\n",
    "\n",
    "            plt.scatter(self.label_indices, labels[n, :, label_col_index],\n",
    "                    edgecolors='k', label='Labels', c='#2ca02c', s=64)\n",
    "            if model is not None:\n",
    "                predictions = model(inputs)\n",
    "                plt.scatter(self.label_indices, predictions[n, :, label_col_index],\n",
    "                      marker='X', edgecolors='k', label='Predictions',\n",
    "                      c='#ff7f0e', s=64)\n",
    "\n",
    "            if n == 0:\n",
    "                plt.legend()\n",
    "\n",
    "        plt.xlabel('Time')\n",
    "        \n",
    "    def make_dataset(self, data):\n",
    "        data = np.array(data, dtype=np.float32)\n",
    "        ds = tf.keras.preprocessing.timeseries_dataset_from_array(data=data,\n",
    "                                                                 targets=None,\n",
    "                                                                 sequence_length=self.total_window_size,\n",
    "                                                                 sequence_stride=1,\n",
    "                                                                 shuffle=True,\n",
    "                                                                 batch_size=100,) #was 32\n",
    "        ds = ds.map(self.split_window)\n",
    "        return ds\n",
    "    \n",
    "    "
   ]
  },
  {
   "cell_type": "code",
   "execution_count": 7,
   "metadata": {},
   "outputs": [],
   "source": [
    "@property\n",
    "def train(self):\n",
    "    return self.make_dataset(self.train_df)\n",
    "\n",
    "@property\n",
    "def val(self):\n",
    "    return self.make_dataset(self.val_df)\n",
    "\n",
    "@property\n",
    "def test(self):\n",
    "    return self.make_dataset(self.test_df)\n",
    "\n",
    "@property\n",
    "def example(self):\n",
    "    \"\"\"Get and cache an example batch of inputs, labels for plotting\"\"\"\n",
    "    result = getattr(self, '_example', None)\n",
    "    if result is None:\n",
    "        # No example batch was found, so get one from the .train dataset\n",
    "        result = next(iter(self.train))\n",
    "        # And cache it for next time\n",
    "        self._example=result\n",
    "    return result\n",
    "\n",
    "WindowGenerator.train = train\n",
    "WindowGenerator.val = val\n",
    "WindowGenerator.test = test\n",
    "WindowGenerator.example = example"
   ]
  },
  {
   "cell_type": "code",
   "execution_count": 8,
   "metadata": {},
   "outputs": [],
   "source": [
    "MAX_EPOCHS = 100\n",
    "\n",
    "def compile_and_fit(model, window, patience=2):\n",
    "    callback = [tf.keras.callbacks.EarlyStopping(patience=7),\n",
    "                    tf.keras.callbacks.ReduceLROnPlateau(patience=5, verbose=1),\n",
    "                    tf.keras.callbacks.ModelCheckpoint('flex_to_laz_mlp.hdf', save_best_only=True, save_weights_only=True)]\n",
    "    \n",
    "    model.compile(loss=tf.losses.MeanSquaredError(),\n",
    "                 optimizer=tf.optimizers.Adam(learning_rate=1e-4),\n",
    "                 metrics=[tf.metrics.MeanAbsoluteError()])\n",
    "    \n",
    "    history = model.fit(window.train, epochs=MAX_EPOCHS,\n",
    "                       validation_data=window.val,\n",
    "                       callbacks=callback)\n",
    "    return history"
   ]
  },
  {
   "cell_type": "code",
   "execution_count": 9,
   "metadata": {},
   "outputs": [],
   "source": [
    "val_performance = {}\n",
    "performance = {}"
   ]
  },
  {
   "cell_type": "code",
   "execution_count": 10,
   "metadata": {},
   "outputs": [],
   "source": [
    "def train_model(model, dataframe, test, window = False, is_clean=False):\n",
    "    \n",
    "    df = dataframe.copy()\n",
    "    test = test.copy()\n",
    "    \n",
    "    if is_clean:\n",
    "        df = dataframe\n",
    "    else:    \n",
    "        df = clean_data(df)\n",
    "    \n",
    "    test = clean_data(test)\n",
    "    \n",
    "    print(df.tail())\n",
    "    print(test.tail())\n",
    "\n",
    "    \n",
    "    df = normalize_df(df)\n",
    "    test = normalize_df(test)\n",
    "    \n",
    "    col_indices = {name: i for i, name in enumerate(df.columns)}\n",
    "\n",
    "    n = len(df)\n",
    "    train_df = df[:int(0.8*n)]\n",
    "    val_df = df[int(0.8*n):]\n",
    "    test_df = test\n",
    "\n",
    "    num_features = df.shape[1]\n",
    "    \n",
    "    print(f'num features: {num_features}')\n",
    "    \n",
    "    CONV_WIDTH = 10\n",
    "    conv_window = WindowGenerator(input_width=CONV_WIDTH,\n",
    "                                 label_width=1,\n",
    "                                 shift=1,\n",
    "                                 label_columns=['last_laz'],\n",
    "                                 train_df=train_df,\n",
    "                                 val_df=val_df,\n",
    "                                 test_df=test_df)\n",
    "    \n",
    "    history = compile_and_fit(model, conv_window)\n",
    "    model.load_weights('flex_to_laz_mlp.hdf')\n",
    "\n",
    "    if window:\n",
    "        return model, conv_window\n",
    "    else:\n",
    "        return model\n",
    "    \n",
    "  \n",
    "    \n"
   ]
  },
  {
   "cell_type": "markdown",
   "metadata": {},
   "source": [
    "## Multi step dense"
   ]
  },
  {
   "cell_type": "code",
   "execution_count": 11,
   "metadata": {},
   "outputs": [
    {
     "name": "stdout",
     "output_type": "stream",
     "text": [
      "4820/4820 [==============================] - 16s 3ms/step - loss: 4.5306e-04 - mean_absolute_error: 0.0127\n",
      "INFO:tensorflow:Assets written to: MSD_flex_to_laz\\assets\n"
     ]
    }
   ],
   "source": [
    "# Create Model Combined Training\n",
    "\n",
    "                                        #Shape: (time, features) => (time*features)\n",
    "multi_step_dense = tf.keras.Sequential([tf.keras.layers.Flatten(),\n",
    "                                        tf.keras.layers.Dense(units=128, activation='relu'),\n",
    "                                        tf.keras.layers.Dropout(0.2),\n",
    "                                        tf.keras.layers.Dense(units=32, activation='relu'),\n",
    "                                        tf.keras.layers.Dropout(0.2),\n",
    "                                        tf.keras.layers.Dense(units=1),\n",
    "                                        # Add back the time dimension.\n",
    "                                        #Shape: (outputs) => (1, outputs)\n",
    "                                        tf.keras.layers.Reshape([1, -1]),\n",
    "                                       ])\n",
    "\n",
    "\n",
    "\n",
    "#multi_step_dense = train_model(multi_step_dense, raw_data, raw_data5)\n",
    "multi_step_dense, conv_window = train_model(multi_step_dense, cleaned_data, raw_data10, window=True, is_clean=True)\n",
    "\n",
    "IPython.display.clear_output()\n",
    "val_performance['Multi step dense'] = multi_step_dense.evaluate(conv_window.val)\n",
    "performance['Multi step dense'] = multi_step_dense.evaluate(conv_window.test, verbose=0)\n",
    "multi_step_dense.save('MSD_flex_to_laz_X')"
   ]
  },
  {
   "cell_type": "code",
   "execution_count": 12,
   "metadata": {},
   "outputs": [
    {
     "name": "stdout",
     "output_type": "stream",
     "text": [
      "534/534 [==============================] - 2s 3ms/step - loss: 0.0017 - mean_absolute_error: 0.0297\n",
      "INFO:tensorflow:Assets written to: MSD_split_flex_to_laz\\assets\n"
     ]
    }
   ],
   "source": [
    "# Create Model Split Training\n",
    "\n",
    "                                        #Shape: (time, features) => (time*features)\n",
    "multi_step_dense = tf.keras.Sequential([tf.keras.layers.Flatten(),\n",
    "                                        tf.keras.layers.Dense(units=128, activation='relu'),\n",
    "                                        tf.keras.layers.Dropout(0.2),\n",
    "                                        tf.keras.layers.Dense(units=32, activation='relu'),\n",
    "                                        tf.keras.layers.Dropout(0.2),\n",
    "                                        tf.keras.layers.Dense(units=1),\n",
    "                                        # Add back the time dimension.\n",
    "                                        #Shape: (outputs) => (1, outputs)\n",
    "                                        tf.keras.layers.Reshape([1, -1]),\n",
    "                                       ])\n",
    "\n",
    "\n",
    "\n",
    "#multi_step_dense = train_model(multi_step_dense, raw_data, raw_data5)\n",
    "multi_step_dense = train_model(multi_step_dense, raw_data0, raw_data10)\n",
    "multi_step_dense = train_model(multi_step_dense, raw_data1, raw_data10)\n",
    "multi_step_dense = train_model(multi_step_dense, raw_data2, raw_data10)\n",
    "multi_step_dense = train_model(multi_step_dense, raw_data3, raw_data10)\n",
    "multi_step_dense = train_model(multi_step_dense, raw_data4, raw_data10)\n",
    "multi_step_dense = train_model(multi_step_dense, raw_data5, raw_data10)\n",
    "multi_step_dense = train_model(multi_step_dense, raw_data6, raw_data10)\n",
    "#multi_step_dense = train_model(multi_step_dense, raw_data7, raw_data10)\n",
    "multi_step_dense = train_model(multi_step_dense, raw_data8, raw_data10)\n",
    "multi_step_dense, conv_window = train_model(multi_step_dense, raw_data9, raw_data10, window=True)\n",
    "\n",
    "IPython.display.clear_output()\n",
    "val_performance['Multi step dense split'] = multi_step_dense.evaluate(conv_window.val)\n",
    "performance['Multi step dense split'] = multi_step_dense.evaluate(conv_window.test, verbose=0)\n",
    "multi_step_dense.save('MSD_split_flex_to_laz_X')"
   ]
  },
  {
   "cell_type": "markdown",
   "metadata": {},
   "source": [
    "## CNN model"
   ]
  },
  {
   "cell_type": "code",
   "execution_count": 13,
   "metadata": {
    "scrolled": true
   },
   "outputs": [
    {
     "name": "stdout",
     "output_type": "stream",
     "text": [
      "4820/4820 [==============================] - 14s 3ms/step - loss: 4.9754e-04 - mean_absolute_error: 0.0143\n",
      "INFO:tensorflow:Assets written to: CNN_flex_to_laz\\assets\n"
     ]
    }
   ],
   "source": [
    "# Create model\n",
    "CONV_WIDTH = 10\n",
    "conv_model = tf.keras.Sequential([tf.keras.layers.Conv1D(filters=128,\n",
    "                                                        kernel_size=(CONV_WIDTH,),\n",
    "                                                        activation='relu'),\n",
    "                                  tf.keras.layers.Dropout(0.2),\n",
    "                                  tf.keras.layers.Dense(units=32, activation='relu'),\n",
    "                                  tf.keras.layers.Dropout(0.2),\n",
    "                                  tf.keras.layers.Dense(units=1),\n",
    "                                  tf.keras.layers.Reshape([1, -1]),\n",
    "                                 ])\n",
    "\n",
    "conv_model, conv_window = train_model(conv_model, cleaned_data, raw_data10, window=True, is_clean=True)\n",
    "\n",
    "IPython.display.clear_output()\n",
    "val_performance['CNN'] = conv_model.evaluate(conv_window.val)\n",
    "performance['CNN'] = conv_model.evaluate(conv_window.test, verbose=0)\n",
    "conv_model.save('CNN_flex_to_laz_X')"
   ]
  },
  {
   "cell_type": "code",
   "execution_count": 14,
   "metadata": {},
   "outputs": [
    {
     "name": "stdout",
     "output_type": "stream",
     "text": [
      "534/534 [==============================] - 2s 3ms/step - loss: 4.1250e-04 - mean_absolute_error: 0.0132\n",
      "INFO:tensorflow:Assets written to: CNN_split_flex_to_laz\\assets\n"
     ]
    }
   ],
   "source": [
    "# Create model\n",
    "CONV_WIDTH = 10\n",
    "conv_model = tf.keras.Sequential([tf.keras.layers.Conv1D(filters=128,\n",
    "                                                        kernel_size=(CONV_WIDTH,),\n",
    "                                                        activation='relu'),\n",
    "                                  tf.keras.layers.Dropout(0.2),\n",
    "                                  tf.keras.layers.Dense(units=32, activation='relu'),\n",
    "                                  tf.keras.layers.Dropout(0.2),\n",
    "                                  tf.keras.layers.Dense(units=1),\n",
    "                                  tf.keras.layers.Reshape([1, -1]),\n",
    "                                 ])\n",
    "\n",
    "conv_model = train_model(conv_model, raw_data0, raw_data10)\n",
    "conv_model = train_model(conv_model, raw_data1, raw_data10)\n",
    "conv_model = train_model(conv_model, raw_data2, raw_data10)\n",
    "conv_model = train_model(conv_model, raw_data3, raw_data10)\n",
    "conv_model = train_model(conv_model, raw_data4, raw_data10)\n",
    "conv_model = train_model(conv_model, raw_data5, raw_data10)\n",
    "conv_model = train_model(conv_model, raw_data6, raw_data10)\n",
    "#conv_model = train_model(conv_model, raw_data7, raw_data10)\n",
    "conv_model = train_model(conv_model, raw_data8, raw_data10)\n",
    "conv_model, conv_window = train_model(conv_model, raw_data9, raw_data10, window=True)\n",
    "\n",
    "IPython.display.clear_output()\n",
    "val_performance['CNN split'] = conv_model.evaluate(conv_window.val)\n",
    "performance['CNN split'] = conv_model.evaluate(conv_window.test, verbose=0)\n",
    "conv_model.save('CNN_split_flex_to_laz_X')"
   ]
  },
  {
   "cell_type": "markdown",
   "metadata": {},
   "source": [
    "## LSTM model"
   ]
  },
  {
   "cell_type": "code",
   "execution_count": 11,
   "metadata": {},
   "outputs": [
    {
     "name": "stdout",
     "output_type": "stream",
     "text": [
      "4820/4820 [==============================] - 32s 7ms/step - loss: 2.7145e-04 - mean_absolute_error: 0.0083\n",
      "WARNING:tensorflow:From C:\\Users\\Kptha\\Anaconda3\\envs\\tf_torch\\lib\\site-packages\\tensorflow\\python\\training\\tracking\\tracking.py:111: Model.state_updates (from tensorflow.python.keras.engine.training) is deprecated and will be removed in a future version.\n",
      "Instructions for updating:\n",
      "This property should not be used in TensorFlow 2.0, as updates are applied automatically.\n",
      "WARNING:tensorflow:From C:\\Users\\Kptha\\Anaconda3\\envs\\tf_torch\\lib\\site-packages\\tensorflow\\python\\training\\tracking\\tracking.py:111: Layer.updates (from tensorflow.python.keras.engine.base_layer) is deprecated and will be removed in a future version.\n",
      "Instructions for updating:\n",
      "This property should not be used in TensorFlow 2.0, as updates are applied automatically.\n",
      "INFO:tensorflow:Assets written to: LSTM_flex_to_laz\\assets\n"
     ]
    }
   ],
   "source": [
    "# Create Model\n",
    "CONV_WIDTH = 10\n",
    "                                # Shape [batch, time, features] +> [batch, time, lstm_units]\n",
    "lstm_model = tf.keras.models.Sequential([tf.keras.layers.LSTM(128, return_sequences=False, input_shape=(CONV_WIDTH,2) ),\n",
    "                                            # Shape => [batch, time, features]\n",
    "                                            tf.keras.layers.Dense(units=1),\n",
    "                                            #tf.keras.layers.Reshape([1, -1]),\n",
    "                                            ])\n",
    "\n",
    "\n",
    "lstm_model, conv_window = train_model(lstm_model, cleaned_data, raw_data10, window=True, is_clean=True)\n",
    "\n",
    "IPython.display.clear_output()\n",
    "val_performance['LSTM'] = lstm_model.evaluate(conv_window.val)\n",
    "performance['LSTM'] = lstm_model.evaluate(conv_window.test, verbose=0)\n",
    "\n",
    "lstm_model.save('LSTM_flex_to_laz_X')"
   ]
  },
  {
   "cell_type": "code",
   "execution_count": 12,
   "metadata": {},
   "outputs": [
    {
     "name": "stdout",
     "output_type": "stream",
     "text": [
      "534/534 [==============================] - 3s 6ms/step - loss: 2.5268e-04 - mean_absolute_error: 0.0083\n",
      "INFO:tensorflow:Assets written to: LSTM_split_flex_to_laz\\assets\n"
     ]
    }
   ],
   "source": [
    "# Create Model\n",
    "CONV_WIDTH = 10\n",
    "                                # Shape [batch, time, features] +> [batch, time, lstm_units]\n",
    "lstm_model = tf.keras.models.Sequential([tf.keras.layers.LSTM(128, return_sequences=False, input_shape=(CONV_WIDTH, 2) ),\n",
    "                                            # Shape => [batch, time, features]\n",
    "                                            tf.keras.layers.Dense(units=1),\n",
    "                                            tf.keras.layers.Reshape([1, -1]),\n",
    "                                            ])\n",
    "\n",
    "lstm_model = train_model(lstm_model, raw_data0, raw_data10)\n",
    "lstm_model = train_model(lstm_model, raw_data1, raw_data10)\n",
    "lstm_model = train_model(lstm_model, raw_data2, raw_data10)\n",
    "lstm_model = train_model(lstm_model, raw_data3, raw_data10)\n",
    "lstm_model = train_model(lstm_model, raw_data4, raw_data10)\n",
    "lstm_model = train_model(lstm_model, raw_data5, raw_data10)\n",
    "lstm_model = train_model(lstm_model, raw_data6, raw_data10)\n",
    "#lstm_model = train_model(lstm_model, raw_data7, raw_data10)\n",
    "lstm_model = train_model(lstm_model, raw_data8, raw_data10)\n",
    "lstm_model, conv_window = train_model(lstm_model, raw_data9, raw_data10, window=True)\n",
    "\n",
    "IPython.display.clear_output()\n",
    "val_performance['LSTM split'] = lstm_model.evaluate(conv_window.val)\n",
    "performance['LSTM split'] = lstm_model.evaluate(conv_window.test, verbose=0)\n",
    "\n",
    "lstm_model.save('LSTM_split_flex_to_laz_X')"
   ]
  },
  {
   "cell_type": "markdown",
   "metadata": {},
   "source": [
    "## Compare"
   ]
  },
  {
   "cell_type": "code",
   "execution_count": 15,
   "metadata": {},
   "outputs": [
    {
     "data": {
      "image/png": "[encoded data removed]",
      "text/plain": [
       "<Figure size 432x288 with 1 Axes>"
      ]
     },
     "metadata": {
      "needs_background": "light"
     },
     "output_type": "display_data"
    }
   ],
   "source": [
    "x = np.arange(len(performance))\n",
    "width = 0.3\n",
    "metric_name = 'mean_absolute_error'\n",
    "metric_index = lstm_model.metrics_names.index('mean_absolute_error')\n",
    "val_mae = [v[metric_index] for v in val_performance.values()]\n",
    "test_mae = [v[metric_index] for v in performance.values()]\n",
    "\n",
    "plt.ylabel('mean_absolute_error [Laz, normalized]')\n",
    "plt.bar(x - 0.17, val_mae, width, label='Validation')\n",
    "plt.bar(x + 0.17, test_mae, width, label='Test')\n",
    "plt.xticks(ticks=x, labels=performance.keys(), rotation=45)\n",
    "_ = plt.legend()"
   ]
  },
  {
   "cell_type": "code",
   "execution_count": null,
   "metadata": {},
   "outputs": [],
   "source": []
  },
  {
   "cell_type": "code",
   "execution_count": null,
   "metadata": {},
   "outputs": [],
   "source": []
  }
 ],
 "metadata": {
  "kernelspec": {
   "display_name": "tf",
   "language": "python",
   "name": "tf"
  },
  "language_info": {
   "codemirror_mode": {
    "name": "ipython",
    "version": 3
   },
   "file_extension": ".py",
   "mimetype": "text/x-python",
   "name": "python",
   "nbconvert_exporter": "python",
   "pygments_lexer": "ipython3",
   "version": "3.8.8"
  }
 },
 "nbformat": 4,
 "nbformat_minor": 5
}
